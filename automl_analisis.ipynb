{
 "cells": [
  {
   "cell_type": "markdown",
   "metadata": {},
   "source": [
    "Nombre: Santiago Villaseñor\n",
    " \n",
    "Clave:  201427"
   ]
  },
  {
   "cell_type": "markdown",
   "metadata": {},
   "source": [
    "# Recomendacion de Modelo de Default Para Banco"
   ]
  },
  {
   "cell_type": "markdown",
   "metadata": {},
   "source": [
    "El objetivo de este proyecto es entrenar un modelo y recomendar al banco como utilizarlo.  \n",
    "Puedes agregar mas snippets, usar fuentes de internet, otras librerias, comentar con otras personas, pero asegurate de ser muy explicitx con tu explicacion. Imagina que este documento lo va a evaluar una persona tecnica y una persona no tecnica, por lo que tienes que ser muy cuidadosx con lo que dices pues tiene que ser verdad y no tener errores metodologicos, pero tambien partes que sean faciles de leer."
   ]
  },
  {
   "cell_type": "markdown",
   "metadata": {},
   "source": [
    "1. Deberas replicar el analisis/codigo que utilizamos en el `AutoML` coun autogluon (o con cualquier otra libreria que desees), pero tendras que elimar la columna que especifica la `tasa de interes` o columnas equivalentes.  \n",
    "   \n",
    "2. Debes elegir (entrenar) dos modelo que no tenga `leakage`, que sean estadisticamente robustos y utiles para la operacion. Debes explicar de manera detallada con graficas, tablas y palabras por que propones el uso de cada modelo\n",
    "   1. El primer modelo debe ser explicable (por regulacion debes ser capaz de explicar por que no se da el prestamo). Ofrece una guia para explicar como podria defenderse el banco con el modelo que promones\n",
    "   2. El segundo debe ser elegido sin importar si es explicable o no  \n",
    "   \n",
    "3. Finalmente usando uno de los modelos anteriores (elige el que quieras) debes proponer al banco que tasa de interes utilizar para los prestamos (basandose en la probabilidad del modelo) bajo los siguientes escenarios\n",
    "   1. El banco no es adverso al riesgo y quiere saber cual es la minima tasa a la que deberia prestar para no perder o ganar dinero (Valor esperado del prestamo igual a cero)\n",
    "   2. El banco es adverso al riesgo y busca la tasa para la cual el valor esperado del prestamo represente una ganancia de 1.5 sobre el prestamo (Valor esperado del prestamo 1.5)\n",
    "   3. El banco quiere obtener 1.2 veces el valor del prestamo, pero quiere que por lo menos el 30% de los prestamos realizados sean pagados (en promedio o valor esperado) "
   ]
  },
  {
   "cell_type": "markdown",
   "metadata": {},
   "source": [
    "# Codigo para prediccion"
   ]
  },
  {
   "cell_type": "markdown",
   "metadata": {},
   "source": [
    "En esta seccion deberas replicar el proceso de entramiento para los dos modelos (interpretable y no interpretable)  \n",
    "+ Utiliza los mismos datos que usamos en el proyecto de AutoML\n",
    "+ Recuerda que debes quitar todas las columnas que incluyan la tasa de interes en tu prediccion, pues deberas proponer la tasa de interes mas tarde"
   ]
  },
  {
   "cell_type": "markdown",
   "metadata": {},
   "source": [
    "### ETL"
   ]
  },
  {
   "cell_type": "code",
   "execution_count": 4,
   "metadata": {},
   "outputs": [
    {
     "name": "stdout",
     "output_type": "stream",
     "text": [
      "Collecting fastparquet\n",
      "  Downloading fastparquet-2024.2.0-cp311-cp311-win_amd64.whl.metadata (4.2 kB)\n",
      "Collecting pandas>=1.5.0 (from fastparquet)\n",
      "  Using cached pandas-2.2.1-cp311-cp311-win_amd64.whl.metadata (19 kB)\n",
      "Collecting numpy>=1.20.3 (from fastparquet)\n",
      "  Using cached numpy-1.26.4-cp311-cp311-win_amd64.whl.metadata (61 kB)\n",
      "Collecting cramjam>=2.3 (from fastparquet)\n",
      "  Downloading cramjam-2.8.3-cp311-none-win_amd64.whl.metadata (4.3 kB)\n",
      "Collecting fsspec (from fastparquet)\n",
      "  Downloading fsspec-2024.3.1-py3-none-any.whl.metadata (6.8 kB)\n",
      "Collecting packaging (from fastparquet)\n",
      "  Downloading packaging-24.0-py3-none-any.whl.metadata (3.2 kB)\n",
      "Collecting python-dateutil>=2.8.2 (from pandas>=1.5.0->fastparquet)\n",
      "  Downloading python_dateutil-2.9.0.post0-py2.py3-none-any.whl.metadata (8.4 kB)\n",
      "Collecting pytz>=2020.1 (from pandas>=1.5.0->fastparquet)\n",
      "  Downloading pytz-2024.1-py2.py3-none-any.whl.metadata (22 kB)\n",
      "Collecting tzdata>=2022.7 (from pandas>=1.5.0->fastparquet)\n",
      "  Downloading tzdata-2024.1-py2.py3-none-any.whl.metadata (1.4 kB)\n",
      "Collecting six>=1.5 (from python-dateutil>=2.8.2->pandas>=1.5.0->fastparquet)\n",
      "  Downloading six-1.16.0-py2.py3-none-any.whl.metadata (1.8 kB)\n",
      "Downloading fastparquet-2024.2.0-cp311-cp311-win_amd64.whl (670 kB)\n",
      "   ---------------------------------------- 0.0/670.5 kB ? eta -:--:--\n",
      "   - -------------------------------------- 30.7/670.5 kB 1.3 MB/s eta 0:00:01\n",
      "   ------- -------------------------------- 122.9/670.5 kB 1.4 MB/s eta 0:00:01\n",
      "   ------------ --------------------------- 204.8/670.5 kB 1.6 MB/s eta 0:00:01\n",
      "   -------------------------- ------------- 450.6/670.5 kB 2.8 MB/s eta 0:00:01\n",
      "   ---------------------------------------  665.6/670.5 kB 3.0 MB/s eta 0:00:01\n",
      "   ---------------------------------------- 670.5/670.5 kB 2.6 MB/s eta 0:00:00\n",
      "Downloading cramjam-2.8.3-cp311-none-win_amd64.whl (1.6 MB)\n",
      "   ---------------------------------------- 0.0/1.6 MB ? eta -:--:--\n",
      "   ---------- ----------------------------- 0.5/1.6 MB 9.4 MB/s eta 0:00:01\n",
      "   ---------------- ----------------------- 0.7/1.6 MB 7.3 MB/s eta 0:00:01\n",
      "   ------------------------------ --------- 1.3/1.6 MB 8.9 MB/s eta 0:00:01\n",
      "   -------------------------------------- - 1.6/1.6 MB 9.0 MB/s eta 0:00:01\n",
      "   -------------------------------------- - 1.6/1.6 MB 7.2 MB/s eta 0:00:01\n",
      "   ---------------------------------------  1.6/1.6 MB 7.0 MB/s eta 0:00:01\n",
      "   ---------------------------------------- 1.6/1.6 MB 6.1 MB/s eta 0:00:00\n",
      "Using cached numpy-1.26.4-cp311-cp311-win_amd64.whl (15.8 MB)\n",
      "Using cached pandas-2.2.1-cp311-cp311-win_amd64.whl (11.6 MB)\n",
      "Downloading fsspec-2024.3.1-py3-none-any.whl (171 kB)\n",
      "   ---------------------------------------- 0.0/172.0 kB ? eta -:--:--\n",
      "   --------------------------------------- 172.0/172.0 kB 10.1 MB/s eta 0:00:00\n",
      "Downloading packaging-24.0-py3-none-any.whl (53 kB)\n",
      "   ---------------------------------------- 0.0/53.5 kB ? eta -:--:--\n",
      "   ---------------------------------------- 53.5/53.5 kB 2.9 MB/s eta 0:00:00\n",
      "Downloading python_dateutil-2.9.0.post0-py2.py3-none-any.whl (229 kB)\n",
      "   ---------------------------------------- 0.0/229.9 kB ? eta -:--:--\n",
      "   ---------------------------------------- 229.9/229.9 kB 7.1 MB/s eta 0:00:00\n",
      "Downloading pytz-2024.1-py2.py3-none-any.whl (505 kB)\n",
      "   ---------------------------------------- 0.0/505.5 kB ? eta -:--:--\n",
      "   ------------------------------- ------- 409.6/505.5 kB 12.9 MB/s eta 0:00:01\n",
      "   ---------------------------------------- 505.5/505.5 kB 7.9 MB/s eta 0:00:00\n",
      "Downloading tzdata-2024.1-py2.py3-none-any.whl (345 kB)\n",
      "   ---------------------------------------- 0.0/345.4 kB ? eta -:--:--\n",
      "   --------------------------------------  337.9/345.4 kB 10.6 MB/s eta 0:00:01\n",
      "   ---------------------------------------- 345.4/345.4 kB 7.1 MB/s eta 0:00:00\n",
      "Downloading six-1.16.0-py2.py3-none-any.whl (11 kB)\n",
      "Installing collected packages: pytz, tzdata, six, packaging, numpy, fsspec, cramjam, python-dateutil, pandas, fastparquet\n",
      "  Attempting uninstall: pytz\n",
      "    Found existing installation: pytz 2023.3.post1\n",
      "    Uninstalling pytz-2023.3.post1:\n",
      "      Successfully uninstalled pytz-2023.3.post1\n",
      "  Attempting uninstall: tzdata\n",
      "    Found existing installation: tzdata 2023.3\n",
      "    Uninstalling tzdata-2023.3:\n",
      "      Successfully uninstalled tzdata-2023.3\n",
      "  Attempting uninstall: six\n",
      "    Found existing installation: six 1.16.0\n",
      "    Uninstalling six-1.16.0:\n",
      "      Successfully uninstalled six-1.16.0\n",
      "  Attempting uninstall: packaging\n",
      "    Found existing installation: packaging 23.2\n",
      "    Uninstalling packaging-23.2:\n",
      "      Successfully uninstalled packaging-23.2\n",
      "  Attempting uninstall: numpy\n",
      "    Found existing installation: numpy 1.26.4\n",
      "    Uninstalling numpy-1.26.4:\n",
      "      Successfully uninstalled numpy-1.26.4\n",
      "  Attempting uninstall: fsspec\n",
      "    Found existing installation: fsspec 2023.10.0\n",
      "    Uninstalling fsspec-2023.10.0:\n",
      "      Successfully uninstalled fsspec-2023.10.0\n",
      "  Attempting uninstall: cramjam\n",
      "    Found existing installation: cramjam 2.7.0\n",
      "    Uninstalling cramjam-2.7.0:\n",
      "      Successfully uninstalled cramjam-2.7.0\n",
      "  Attempting uninstall: python-dateutil\n",
      "    Found existing installation: python-dateutil 2.8.2\n",
      "    Uninstalling python-dateutil-2.8.2:\n",
      "      Successfully uninstalled python-dateutil-2.8.2\n",
      "  Attempting uninstall: pandas\n",
      "    Found existing installation: pandas 2.1.2\n",
      "    Uninstalling pandas-2.1.2:\n",
      "      Successfully uninstalled pandas-2.1.2\n",
      "  Attempting uninstall: fastparquet\n",
      "    Found existing installation: fastparquet 2023.10.1\n",
      "    Uninstalling fastparquet-2023.10.1:\n",
      "      Successfully uninstalled fastparquet-2023.10.1\n",
      "Successfully installed cramjam-2.8.3 fastparquet-2024.2.0 fsspec-2024.3.1 numpy-1.26.4 packaging-24.0 pandas-2.2.1 python-dateutil-2.9.0.post0 pytz-2024.1 six-1.16.0 tzdata-2024.1\n"
     ]
    },
    {
     "name": "stderr",
     "output_type": "stream",
     "text": [
      "WARNING: Skipping C:\\Users\\santi\\AppData\\Local\\Packages\\PythonSoftwareFoundation.Python.3.11_qbz5n2kfra8p0\\LocalCache\\local-packages\\Python311\\site-packages\\scipy-1.11.4.dist-info due to invalid metadata entry 'name'\n",
      "WARNING: Skipping C:\\Users\\santi\\AppData\\Local\\Packages\\PythonSoftwareFoundation.Python.3.11_qbz5n2kfra8p0\\LocalCache\\local-packages\\Python311\\site-packages\\scipy-1.11.4.dist-info due to invalid metadata entry 'name'\n",
      "WARNING: Skipping C:\\Users\\santi\\AppData\\Local\\Packages\\PythonSoftwareFoundation.Python.3.11_qbz5n2kfra8p0\\LocalCache\\local-packages\\Python311\\site-packages\\scipy-1.11.4.dist-info due to invalid metadata entry 'name'\n",
      "    WARNING: Skipping C:\\Users\\santi\\AppData\\Local\\Packages\\PythonSoftwareFoundation.Python.3.11_qbz5n2kfra8p0\\LocalCache\\local-packages\\Python311\\site-packages\\scipy-1.11.4.dist-info due to invalid metadata entry 'name'\n",
      "    WARNING: Skipping C:\\Users\\santi\\AppData\\Local\\Packages\\PythonSoftwareFoundation.Python.3.11_qbz5n2kfra8p0\\LocalCache\\local-packages\\Python311\\site-packages\\scipy-1.11.4.dist-info due to invalid metadata entry 'name'\n",
      "  WARNING: The script f2py.exe is installed in 'C:\\Users\\santi\\AppData\\Local\\Packages\\PythonSoftwareFoundation.Python.3.11_qbz5n2kfra8p0\\LocalCache\\local-packages\\Python311\\Scripts' which is not on PATH.\n",
      "  Consider adding this directory to PATH or, if you prefer to suppress this warning, use --no-warn-script-location.\n",
      "WARNING: Skipping C:\\Users\\santi\\AppData\\Local\\Packages\\PythonSoftwareFoundation.Python.3.11_qbz5n2kfra8p0\\LocalCache\\local-packages\\Python311\\site-packages\\scipy-1.11.4.dist-info due to invalid metadata entry 'name'\n",
      "WARNING: Skipping C:\\Users\\santi\\AppData\\Local\\Packages\\PythonSoftwareFoundation.Python.3.11_qbz5n2kfra8p0\\LocalCache\\local-packages\\Python311\\site-packages\\scipy-1.11.4.dist-info due to invalid metadata entry 'name'\n",
      "WARNING: Skipping C:\\Users\\santi\\AppData\\Local\\Packages\\PythonSoftwareFoundation.Python.3.11_qbz5n2kfra8p0\\LocalCache\\local-packages\\Python311\\site-packages\\scipy-1.11.4.dist-info due to invalid metadata entry 'name'\n",
      "\n",
      "[notice] A new release of pip is available: 23.3.1 -> 24.0\n",
      "[notice] To update, run: C:\\Users\\santi\\AppData\\Local\\Microsoft\\WindowsApps\\PythonSoftwareFoundation.Python.3.11_qbz5n2kfra8p0\\python.exe -m pip install --upgrade pip\n"
     ]
    }
   ],
   "source": [
    "!pip install --force-reinstall fastparquet\n"
   ]
  },
  {
   "cell_type": "code",
   "execution_count": 1,
   "metadata": {},
   "outputs": [
    {
     "ename": "ImportError",
     "evalue": "Unable to find a usable engine; tried using: 'pyarrow', 'fastparquet'.\nA suitable version of pyarrow or fastparquet is required for parquet support.\nTrying to import the above resulted in these errors:\n - Missing optional dependency 'pyarrow'. pyarrow is required for parquet support. Use pip or conda to install pyarrow.\n - Missing optional dependency 'fastparquet'. fastparquet is required for parquet support. Use pip or conda to install fastparquet.",
     "output_type": "error",
     "traceback": [
      "\u001b[1;31m---------------------------------------------------------------------------\u001b[0m",
      "\u001b[1;31mImportError\u001b[0m                               Traceback (most recent call last)",
      "Cell \u001b[1;32mIn[1], line 3\u001b[0m\n\u001b[0;32m      1\u001b[0m \u001b[38;5;28;01mimport\u001b[39;00m \u001b[38;5;21;01mpandas\u001b[39;00m \u001b[38;5;28;01mas\u001b[39;00m \u001b[38;5;21;01mpd\u001b[39;00m\n\u001b[1;32m----> 3\u001b[0m df\u001b[38;5;241m=\u001b[39m\u001b[43mpd\u001b[49m\u001b[38;5;241;43m.\u001b[39;49m\u001b[43mread_parquet\u001b[49m\u001b[43m(\u001b[49m\u001b[38;5;124;43m'\u001b[39;49m\u001b[38;5;124;43mloans_sampe_data.parquet\u001b[39;49m\u001b[38;5;124;43m'\u001b[39;49m\u001b[43m)\u001b[49m\n\u001b[0;32m      5\u001b[0m df\n",
      "File \u001b[1;32mc:\\Users\\santi\\miniconda3\\envs\\venv\\Lib\\site-packages\\pandas\\io\\parquet.py:651\u001b[0m, in \u001b[0;36mread_parquet\u001b[1;34m(path, engine, columns, storage_options, use_nullable_dtypes, dtype_backend, filesystem, filters, **kwargs)\u001b[0m\n\u001b[0;32m    498\u001b[0m \u001b[38;5;129m@doc\u001b[39m(storage_options\u001b[38;5;241m=\u001b[39m_shared_docs[\u001b[38;5;124m\"\u001b[39m\u001b[38;5;124mstorage_options\u001b[39m\u001b[38;5;124m\"\u001b[39m])\n\u001b[0;32m    499\u001b[0m \u001b[38;5;28;01mdef\u001b[39;00m \u001b[38;5;21mread_parquet\u001b[39m(\n\u001b[0;32m    500\u001b[0m     path: FilePath \u001b[38;5;241m|\u001b[39m ReadBuffer[\u001b[38;5;28mbytes\u001b[39m],\n\u001b[1;32m   (...)\u001b[0m\n\u001b[0;32m    508\u001b[0m     \u001b[38;5;241m*\u001b[39m\u001b[38;5;241m*\u001b[39mkwargs,\n\u001b[0;32m    509\u001b[0m ) \u001b[38;5;241m-\u001b[39m\u001b[38;5;241m>\u001b[39m DataFrame:\n\u001b[0;32m    510\u001b[0m \u001b[38;5;250m    \u001b[39m\u001b[38;5;124;03m\"\"\"\u001b[39;00m\n\u001b[0;32m    511\u001b[0m \u001b[38;5;124;03m    Load a parquet object from the file path, returning a DataFrame.\u001b[39;00m\n\u001b[0;32m    512\u001b[0m \n\u001b[1;32m   (...)\u001b[0m\n\u001b[0;32m    648\u001b[0m \u001b[38;5;124;03m    1    4    9\u001b[39;00m\n\u001b[0;32m    649\u001b[0m \u001b[38;5;124;03m    \"\"\"\u001b[39;00m\n\u001b[1;32m--> 651\u001b[0m     impl \u001b[38;5;241m=\u001b[39m \u001b[43mget_engine\u001b[49m\u001b[43m(\u001b[49m\u001b[43mengine\u001b[49m\u001b[43m)\u001b[49m\n\u001b[0;32m    653\u001b[0m     \u001b[38;5;28;01mif\u001b[39;00m use_nullable_dtypes \u001b[38;5;129;01mis\u001b[39;00m \u001b[38;5;129;01mnot\u001b[39;00m lib\u001b[38;5;241m.\u001b[39mno_default:\n\u001b[0;32m    654\u001b[0m         msg \u001b[38;5;241m=\u001b[39m (\n\u001b[0;32m    655\u001b[0m             \u001b[38;5;124m\"\u001b[39m\u001b[38;5;124mThe argument \u001b[39m\u001b[38;5;124m'\u001b[39m\u001b[38;5;124muse_nullable_dtypes\u001b[39m\u001b[38;5;124m'\u001b[39m\u001b[38;5;124m is deprecated and will be removed \u001b[39m\u001b[38;5;124m\"\u001b[39m\n\u001b[0;32m    656\u001b[0m             \u001b[38;5;124m\"\u001b[39m\u001b[38;5;124min a future version.\u001b[39m\u001b[38;5;124m\"\u001b[39m\n\u001b[0;32m    657\u001b[0m         )\n",
      "File \u001b[1;32mc:\\Users\\santi\\miniconda3\\envs\\venv\\Lib\\site-packages\\pandas\\io\\parquet.py:67\u001b[0m, in \u001b[0;36mget_engine\u001b[1;34m(engine)\u001b[0m\n\u001b[0;32m     64\u001b[0m         \u001b[38;5;28;01mexcept\u001b[39;00m \u001b[38;5;167;01mImportError\u001b[39;00m \u001b[38;5;28;01mas\u001b[39;00m err:\n\u001b[0;32m     65\u001b[0m             error_msgs \u001b[38;5;241m+\u001b[39m\u001b[38;5;241m=\u001b[39m \u001b[38;5;124m\"\u001b[39m\u001b[38;5;130;01m\\n\u001b[39;00m\u001b[38;5;124m - \u001b[39m\u001b[38;5;124m\"\u001b[39m \u001b[38;5;241m+\u001b[39m \u001b[38;5;28mstr\u001b[39m(err)\n\u001b[1;32m---> 67\u001b[0m     \u001b[38;5;28;01mraise\u001b[39;00m \u001b[38;5;167;01mImportError\u001b[39;00m(\n\u001b[0;32m     68\u001b[0m         \u001b[38;5;124m\"\u001b[39m\u001b[38;5;124mUnable to find a usable engine; \u001b[39m\u001b[38;5;124m\"\u001b[39m\n\u001b[0;32m     69\u001b[0m         \u001b[38;5;124m\"\u001b[39m\u001b[38;5;124mtried using: \u001b[39m\u001b[38;5;124m'\u001b[39m\u001b[38;5;124mpyarrow\u001b[39m\u001b[38;5;124m'\u001b[39m\u001b[38;5;124m, \u001b[39m\u001b[38;5;124m'\u001b[39m\u001b[38;5;124mfastparquet\u001b[39m\u001b[38;5;124m'\u001b[39m\u001b[38;5;124m.\u001b[39m\u001b[38;5;130;01m\\n\u001b[39;00m\u001b[38;5;124m\"\u001b[39m\n\u001b[0;32m     70\u001b[0m         \u001b[38;5;124m\"\u001b[39m\u001b[38;5;124mA suitable version of \u001b[39m\u001b[38;5;124m\"\u001b[39m\n\u001b[0;32m     71\u001b[0m         \u001b[38;5;124m\"\u001b[39m\u001b[38;5;124mpyarrow or fastparquet is required for parquet \u001b[39m\u001b[38;5;124m\"\u001b[39m\n\u001b[0;32m     72\u001b[0m         \u001b[38;5;124m\"\u001b[39m\u001b[38;5;124msupport.\u001b[39m\u001b[38;5;130;01m\\n\u001b[39;00m\u001b[38;5;124m\"\u001b[39m\n\u001b[0;32m     73\u001b[0m         \u001b[38;5;124m\"\u001b[39m\u001b[38;5;124mTrying to import the above resulted in these errors:\u001b[39m\u001b[38;5;124m\"\u001b[39m\n\u001b[0;32m     74\u001b[0m         \u001b[38;5;124mf\u001b[39m\u001b[38;5;124m\"\u001b[39m\u001b[38;5;132;01m{\u001b[39;00merror_msgs\u001b[38;5;132;01m}\u001b[39;00m\u001b[38;5;124m\"\u001b[39m\n\u001b[0;32m     75\u001b[0m     )\n\u001b[0;32m     77\u001b[0m \u001b[38;5;28;01mif\u001b[39;00m engine \u001b[38;5;241m==\u001b[39m \u001b[38;5;124m\"\u001b[39m\u001b[38;5;124mpyarrow\u001b[39m\u001b[38;5;124m\"\u001b[39m:\n\u001b[0;32m     78\u001b[0m     \u001b[38;5;28;01mreturn\u001b[39;00m PyArrowImpl()\n",
      "\u001b[1;31mImportError\u001b[0m: Unable to find a usable engine; tried using: 'pyarrow', 'fastparquet'.\nA suitable version of pyarrow or fastparquet is required for parquet support.\nTrying to import the above resulted in these errors:\n - Missing optional dependency 'pyarrow'. pyarrow is required for parquet support. Use pip or conda to install pyarrow.\n - Missing optional dependency 'fastparquet'. fastparquet is required for parquet support. Use pip or conda to install fastparquet."
     ]
    }
   ],
   "source": [
    "import pandas as pd\n",
    "\n",
    "df=pd.read_parquet('loans_sampe_data.parquet')\n",
    "\n",
    "df"
   ]
  },
  {
   "cell_type": "markdown",
   "metadata": {},
   "source": [
    "### EDA"
   ]
  },
  {
   "cell_type": "code",
   "execution_count": null,
   "metadata": {},
   "outputs": [],
   "source": []
  },
  {
   "cell_type": "markdown",
   "metadata": {},
   "source": [
    "### EDA Tasa de Interes"
   ]
  },
  {
   "cell_type": "markdown",
   "metadata": {},
   "source": [
    "Asegura de que los datos sean robustos ante la tasa de interes.  \n",
    "+ Que pasaria si historicamente el banco solo ha ofrecido uno, dos, o tres tipos de tasa de interes? Como limitaria esto tus recomendaciones? \n",
    "  + Piensa que si solo existen ciertos tipos de tasa de interes tus datos estan sesgados o condicionados a estas tasas de interes, por lo que proponer tasas diferentes a estas causaria problemas.  \n",
    "\n",
    "Incluso si la muestra esta sesgada (o no), imagina que este problema no existe para el resto del Notebook\n"
   ]
  },
  {
   "cell_type": "markdown",
   "metadata": {},
   "source": []
  },
  {
   "cell_type": "markdown",
   "metadata": {},
   "source": [
    "### Modelo Interpretable"
   ]
  },
  {
   "cell_type": "code",
   "execution_count": null,
   "metadata": {},
   "outputs": [],
   "source": []
  },
  {
   "cell_type": "markdown",
   "metadata": {},
   "source": [
    "### Modelo no Interpretable"
   ]
  },
  {
   "cell_type": "code",
   "execution_count": null,
   "metadata": {},
   "outputs": [],
   "source": []
  },
  {
   "cell_type": "markdown",
   "metadata": {},
   "source": [
    "## Seleccion/Propuesta de Modelo"
   ]
  },
  {
   "cell_type": "markdown",
   "metadata": {},
   "source": [
    "Explica por que sugieres el modelo, por que es bueno, por que es malo, que metrica(s) usaste para elegirlo. Basicamente tienes que convencer al banco que tu modelo es bueno. Usa graficas, tablas, etc."
   ]
  },
  {
   "cell_type": "markdown",
   "metadata": {},
   "source": [
    "### Modelo Interpretable"
   ]
  },
  {
   "cell_type": "markdown",
   "metadata": {},
   "source": []
  },
  {
   "cell_type": "code",
   "execution_count": null,
   "metadata": {},
   "outputs": [],
   "source": []
  },
  {
   "cell_type": "markdown",
   "metadata": {},
   "source": [
    "### Modelo no Interpretable"
   ]
  },
  {
   "cell_type": "markdown",
   "metadata": {},
   "source": []
  },
  {
   "cell_type": "code",
   "execution_count": null,
   "metadata": {},
   "outputs": [],
   "source": []
  },
  {
   "cell_type": "markdown",
   "metadata": {},
   "source": [
    "## Propuesta de tasa de interes"
   ]
  },
  {
   "cell_type": "markdown",
   "metadata": {},
   "source": [
    "En esta seccion tienes que crear un sistema/funciones/codigo que le funcione en produccion al banco. El banco te pide que crees un sistema para 3 posibles escenarios."
   ]
  },
  {
   "cell_type": "markdown",
   "metadata": {},
   "source": [
    "Piensa que datos vas a utilizar para evaluar estas tasas (train o test?). Piensas que tienes que evaluar como se va a comportar en la realidad. Y tienes que tomar decisiones ahora, para el futuro (produccion)"
   ]
  },
  {
   "cell_type": "markdown",
   "metadata": {},
   "source": [
    "### Valor esperado del prestamo igual a cero"
   ]
  },
  {
   "cell_type": "markdown",
   "metadata": {},
   "source": [
    "Encuentra las tasas de interes para la cual el valor esperado del prestamo es igual a cero"
   ]
  },
  {
   "cell_type": "code",
   "execution_count": null,
   "metadata": {},
   "outputs": [],
   "source": []
  },
  {
   "cell_type": "markdown",
   "metadata": {},
   "source": [
    "### Valor esperado del prestamo igual a 1.5 "
   ]
  },
  {
   "cell_type": "markdown",
   "metadata": {},
   "source": [
    "Encuentra la tasa de interes para la cuel el valor esperado del prestamo es igual a 1.5"
   ]
  },
  {
   "cell_type": "code",
   "execution_count": null,
   "metadata": {},
   "outputs": [],
   "source": []
  },
  {
   "cell_type": "markdown",
   "metadata": {},
   "source": [
    "### Valor esperado del prestamo 1.2 y default menor a 30%"
   ]
  },
  {
   "cell_type": "markdown",
   "metadata": {},
   "source": [
    "Encuentra la tasa de interes necesaria para que el valor esperado de prestamo para el banco sea de por lo menos 1.2, pero ademas el valor esperado de los defaults sea menor al 30%"
   ]
  },
  {
   "cell_type": "code",
   "execution_count": null,
   "metadata": {},
   "outputs": [],
   "source": []
  },
  {
   "cell_type": "markdown",
   "metadata": {},
   "source": [
    "## Para pensar"
   ]
  },
  {
   "cell_type": "markdown",
   "metadata": {},
   "source": [
    "Que pasaria con los modelos que propusiste, si resulta que la tasa de interes afecta la probabilidad de pago (lo cual es muy probable)?\n",
    "+ Explica el problema que apareceria a las personas del banco para evitar problemas con tu modelo, si lo explicas mal te veras mal cuando falle.\n",
    "+ Como podrias solucionarlo (piensa si basta con agregar la tasa de interes y sobre la causalidad y correlacion)"
   ]
  },
  {
   "cell_type": "markdown",
   "metadata": {},
   "source": []
  },
  {
   "cell_type": "markdown",
   "metadata": {},
   "source": []
  }
 ],
 "metadata": {
  "kernelspec": {
   "display_name": "Python 3",
   "language": "python",
   "name": "python3"
  },
  "language_info": {
   "codemirror_mode": {
    "name": "ipython",
    "version": 3
   },
   "file_extension": ".py",
   "mimetype": "text/x-python",
   "name": "python",
   "nbconvert_exporter": "python",
   "pygments_lexer": "ipython3",
   "version": "3.11.5"
  },
  "orig_nbformat": 4
 },
 "nbformat": 4,
 "nbformat_minor": 2
}
